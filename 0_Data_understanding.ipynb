{
 "cells": [
  {
   "cell_type": "markdown",
   "id": "3880f371",
   "metadata": {},
   "source": [
    "## 1. Introduction et data loading \n",
    "This first step consists of importing and examining the dataset, as well as preparing it for exploratory analysis."
   ]
  },
  {
   "cell_type": "markdown",
   "id": "2a4f3640",
   "metadata": {},
   "source": [
    "#### A. Import library"
   ]
  },
  {
   "cell_type": "code",
   "execution_count": 1,
   "id": "0d464c90",
   "metadata": {},
   "outputs": [],
   "source": [
    "import pandas as pd, numpy as np, seaborn as sns\n",
    "import matplotlib.pyplot as plt\n",
    "from scipy import stats\n",
    "import statsmodels.api as sm\n",
    "from statsmodels.stats.proportion import proportions_ztest\n",
    "from statsmodels.formula.api import ols\n",
    "from sklearn.model_selection import train_test_split\n",
    "from sklearn.linear_model import LogisticRegression\n",
    "from sklearn.metrics import confusion_matrix, classification_report, roc_auc_score\n",
    "from sklearn.ensemble import RandomForestClassifier\n",
    "import random as random \n",
    "import math"
   ]
  },
  {
   "cell_type": "markdown",
   "id": "ea914f1e",
   "metadata": {},
   "source": [
    "#### B. Import data"
   ]
  },
  {
   "cell_type": "code",
   "execution_count": 2,
   "id": "07420ac7",
   "metadata": {},
   "outputs": [],
   "source": [
    "df_train = pd.read_csv(\"train.csv\")"
   ]
  },
  {
   "cell_type": "markdown",
   "id": "62022f32",
   "metadata": {},
   "source": [
    "In the initial exploration of the dataset, we found that no feature stood out as strongly linked to the target variable. To enable a more meaningful analysis and better apply what we’ve learned, we added an Age column—this new feature should help provide more signal and allow for deeper investigation.\n",
    "\n",
    "### Creation variable *Age*"
   ]
  },
  {
   "cell_type": "code",
   "execution_count": 3,
   "id": "b3321fcf",
   "metadata": {},
   "outputs": [],
   "source": [
    "np.random.seed(123)\n",
    "n = len(df_train)\n",
    "\n",
    "yes = df_train[df_train.Loan_Status==\"Y\"]\n",
    "no = df_train[df_train.Loan_Status==\"N\"]\n",
    "n_yes = df_train[df_train.Loan_Status==\"Y\"].shape[0]\n",
    "n_no = df_train[df_train.Loan_Status==\"N\"].shape[0]\n",
    "\n",
    "age_yes = np.concatenate( [np.random.randint(32,58,int(n_yes*0.7)),np.random.randint(18,29,int((n_yes*0.3)+1))])\n",
    "age_no = np.concatenate( [np.random.randint(32,58,int(n_no*0.2)),np.random.randint(61,85,int(n_no*0.3)),np.random.randint(18,29,int((n_no*0.5)+1))])\n",
    "\n",
    "\n",
    "mask_yes = df_train.Loan_Status == \"Y\"\n",
    "mask_no  = df_train.Loan_Status == \"N\"\n",
    "\n",
    "df_train.loc[mask_yes, \"age\"] = age_yes\n",
    "df_train.loc[mask_no,  \"age\"] = age_no\n",
    "\n",
    "\n"
   ]
  },
  {
   "cell_type": "code",
   "execution_count": 4,
   "id": "924c29eb",
   "metadata": {},
   "outputs": [],
   "source": [
    "df = df_train.copy()"
   ]
  },
  {
   "cell_type": "markdown",
   "id": "89c4af88",
   "metadata": {},
   "source": [
    "## 2. Initial Understanding of the Dataset"
   ]
  },
  {
   "cell_type": "code",
   "execution_count": 5,
   "id": "cb0a3639",
   "metadata": {},
   "outputs": [
    {
     "data": {
      "text/plain": [
       "(614, 14)"
      ]
     },
     "execution_count": 5,
     "metadata": {},
     "output_type": "execute_result"
    }
   ],
   "source": [
    "df.shape"
   ]
  },
  {
   "cell_type": "markdown",
   "id": "23d9fc09",
   "metadata": {},
   "source": [
    "The table contains 614 rows and 14 columns."
   ]
  },
  {
   "cell_type": "code",
   "execution_count": 6,
   "id": "93238162",
   "metadata": {},
   "outputs": [
    {
     "data": {
      "text/plain": [
       "Loan_ID               object\n",
       "Gender                object\n",
       "Married               object\n",
       "Dependents            object\n",
       "Education             object\n",
       "Self_Employed         object\n",
       "ApplicantIncome        int64\n",
       "CoapplicantIncome    float64\n",
       "LoanAmount           float64\n",
       "Loan_Amount_Term     float64\n",
       "Credit_History       float64\n",
       "Property_Area         object\n",
       "Loan_Status           object\n",
       "age                  float64\n",
       "dtype: object"
      ]
     },
     "execution_count": 6,
     "metadata": {},
     "output_type": "execute_result"
    }
   ],
   "source": [
    "df.dtypes"
   ]
  },
  {
   "cell_type": "code",
   "execution_count": 7,
   "id": "9a3a9fee",
   "metadata": {},
   "outputs": [
    {
     "data": {
      "text/html": [
       "<div>\n",
       "<style scoped>\n",
       "    .dataframe tbody tr th:only-of-type {\n",
       "        vertical-align: middle;\n",
       "    }\n",
       "\n",
       "    .dataframe tbody tr th {\n",
       "        vertical-align: top;\n",
       "    }\n",
       "\n",
       "    .dataframe thead th {\n",
       "        text-align: right;\n",
       "    }\n",
       "</style>\n",
       "<table border=\"1\" class=\"dataframe\">\n",
       "  <thead>\n",
       "    <tr style=\"text-align: right;\">\n",
       "      <th></th>\n",
       "      <th>Loan_ID</th>\n",
       "      <th>Gender</th>\n",
       "      <th>Married</th>\n",
       "      <th>Dependents</th>\n",
       "      <th>Education</th>\n",
       "      <th>Self_Employed</th>\n",
       "      <th>ApplicantIncome</th>\n",
       "      <th>CoapplicantIncome</th>\n",
       "      <th>LoanAmount</th>\n",
       "      <th>Loan_Amount_Term</th>\n",
       "      <th>Credit_History</th>\n",
       "      <th>Property_Area</th>\n",
       "      <th>Loan_Status</th>\n",
       "      <th>age</th>\n",
       "    </tr>\n",
       "  </thead>\n",
       "  <tbody>\n",
       "    <tr>\n",
       "      <th>0</th>\n",
       "      <td>LP001002</td>\n",
       "      <td>Male</td>\n",
       "      <td>No</td>\n",
       "      <td>0</td>\n",
       "      <td>Graduate</td>\n",
       "      <td>No</td>\n",
       "      <td>5849</td>\n",
       "      <td>0.0</td>\n",
       "      <td>NaN</td>\n",
       "      <td>360.0</td>\n",
       "      <td>1.0</td>\n",
       "      <td>Urban</td>\n",
       "      <td>Y</td>\n",
       "      <td>45.0</td>\n",
       "    </tr>\n",
       "    <tr>\n",
       "      <th>1</th>\n",
       "      <td>LP001003</td>\n",
       "      <td>Male</td>\n",
       "      <td>Yes</td>\n",
       "      <td>1</td>\n",
       "      <td>Graduate</td>\n",
       "      <td>No</td>\n",
       "      <td>4583</td>\n",
       "      <td>1508.0</td>\n",
       "      <td>128.0</td>\n",
       "      <td>360.0</td>\n",
       "      <td>1.0</td>\n",
       "      <td>Rural</td>\n",
       "      <td>N</td>\n",
       "      <td>48.0</td>\n",
       "    </tr>\n",
       "    <tr>\n",
       "      <th>2</th>\n",
       "      <td>LP001005</td>\n",
       "      <td>Male</td>\n",
       "      <td>Yes</td>\n",
       "      <td>0</td>\n",
       "      <td>Graduate</td>\n",
       "      <td>Yes</td>\n",
       "      <td>3000</td>\n",
       "      <td>0.0</td>\n",
       "      <td>66.0</td>\n",
       "      <td>360.0</td>\n",
       "      <td>1.0</td>\n",
       "      <td>Urban</td>\n",
       "      <td>Y</td>\n",
       "      <td>34.0</td>\n",
       "    </tr>\n",
       "    <tr>\n",
       "      <th>3</th>\n",
       "      <td>LP001006</td>\n",
       "      <td>Male</td>\n",
       "      <td>Yes</td>\n",
       "      <td>0</td>\n",
       "      <td>Not Graduate</td>\n",
       "      <td>No</td>\n",
       "      <td>2583</td>\n",
       "      <td>2358.0</td>\n",
       "      <td>120.0</td>\n",
       "      <td>360.0</td>\n",
       "      <td>1.0</td>\n",
       "      <td>Urban</td>\n",
       "      <td>Y</td>\n",
       "      <td>34.0</td>\n",
       "    </tr>\n",
       "    <tr>\n",
       "      <th>4</th>\n",
       "      <td>LP001008</td>\n",
       "      <td>Male</td>\n",
       "      <td>No</td>\n",
       "      <td>0</td>\n",
       "      <td>Graduate</td>\n",
       "      <td>No</td>\n",
       "      <td>6000</td>\n",
       "      <td>0.0</td>\n",
       "      <td>141.0</td>\n",
       "      <td>360.0</td>\n",
       "      <td>1.0</td>\n",
       "      <td>Urban</td>\n",
       "      <td>Y</td>\n",
       "      <td>38.0</td>\n",
       "    </tr>\n",
       "  </tbody>\n",
       "</table>\n",
       "</div>"
      ],
      "text/plain": [
       "    Loan_ID Gender Married Dependents     Education Self_Employed  \\\n",
       "0  LP001002   Male      No          0      Graduate            No   \n",
       "1  LP001003   Male     Yes          1      Graduate            No   \n",
       "2  LP001005   Male     Yes          0      Graduate           Yes   \n",
       "3  LP001006   Male     Yes          0  Not Graduate            No   \n",
       "4  LP001008   Male      No          0      Graduate            No   \n",
       "\n",
       "   ApplicantIncome  CoapplicantIncome  LoanAmount  Loan_Amount_Term  \\\n",
       "0             5849                0.0         NaN             360.0   \n",
       "1             4583             1508.0       128.0             360.0   \n",
       "2             3000                0.0        66.0             360.0   \n",
       "3             2583             2358.0       120.0             360.0   \n",
       "4             6000                0.0       141.0             360.0   \n",
       "\n",
       "   Credit_History Property_Area Loan_Status   age  \n",
       "0             1.0         Urban           Y  45.0  \n",
       "1             1.0         Rural           N  48.0  \n",
       "2             1.0         Urban           Y  34.0  \n",
       "3             1.0         Urban           Y  34.0  \n",
       "4             1.0         Urban           Y  38.0  "
      ]
     },
     "execution_count": 7,
     "metadata": {},
     "output_type": "execute_result"
    }
   ],
   "source": [
    "df.head()"
   ]
  },
  {
   "cell_type": "code",
   "execution_count": 8,
   "id": "054fbd71",
   "metadata": {},
   "outputs": [
    {
     "name": "stdout",
     "output_type": "stream",
     "text": [
      "<class 'pandas.core.frame.DataFrame'>\n",
      "RangeIndex: 614 entries, 0 to 613\n",
      "Data columns (total 14 columns):\n",
      " #   Column             Non-Null Count  Dtype  \n",
      "---  ------             --------------  -----  \n",
      " 0   Loan_ID            614 non-null    object \n",
      " 1   Gender             601 non-null    object \n",
      " 2   Married            611 non-null    object \n",
      " 3   Dependents         599 non-null    object \n",
      " 4   Education          614 non-null    object \n",
      " 5   Self_Employed      582 non-null    object \n",
      " 6   ApplicantIncome    614 non-null    int64  \n",
      " 7   CoapplicantIncome  614 non-null    float64\n",
      " 8   LoanAmount         592 non-null    float64\n",
      " 9   Loan_Amount_Term   600 non-null    float64\n",
      " 10  Credit_History     564 non-null    float64\n",
      " 11  Property_Area      614 non-null    object \n",
      " 12  Loan_Status        614 non-null    object \n",
      " 13  age                614 non-null    float64\n",
      "dtypes: float64(5), int64(1), object(8)\n",
      "memory usage: 67.3+ KB\n"
     ]
    }
   ],
   "source": [
    "df.info()"
   ]
  },
  {
   "cell_type": "markdown",
   "id": "1d540082",
   "metadata": {},
   "source": [
    "## Missing Values"
   ]
  },
  {
   "cell_type": "code",
   "execution_count": 9,
   "id": "c129aaec",
   "metadata": {},
   "outputs": [],
   "source": [
    "def val_nul_plot(df, title=\"Percentage of missing values\"):\n",
    "\n",
    "    pct_missing = df.isna().sum() / len(df) * 100\n",
    "    pct_missing = pct_missing.sort_values(ascending=False)\n",
    "\n",
    "\n",
    "    for col, prct in pct_missing.items():\n",
    "        print(f\"{col}-------------------- {prct:0.2f} % missing values\")\n",
    "\n",
    "\n",
    "    cmap = plt.get_cmap(\"Reds\")\n",
    "    max_val = pct_missing.max()\n",
    "    normed = pct_missing / max_val if max_val > 0 else pct_missing\n",
    "    colors = [cmap(v) for v in normed]\n",
    "\n",
    "\n",
    "    fig, ax = plt.subplots(figsize=(8, max(4, len(pct_missing)*0.5)))\n",
    "    bars = ax.barh(pct_missing.index, pct_missing.values, color=colors, edgecolor=\"black\")\n",
    "    ax.invert_yaxis() \n",
    "    ax.set_xlabel(\"Percentage of missing values (%)\")\n",
    "    ax.set_title(title)\n",
    "    ax.set_xlim(0, 100)\n",
    "    ax.grid(axis=\"x\", linestyle=\"--\", linewidth=0.5, alpha=0.7)\n",
    "\n",
    "\n",
    "    for bar in bars:\n",
    "        width = bar.get_width()\n",
    "        ax.text(width + 1, bar.get_y() + bar.get_height()/2,\n",
    "                f\"{width:0.1f}%\", va=\"center\", fontsize=9)\n",
    "\n",
    "    plt.tight_layout()\n",
    "    plt.show()\n",
    "\n",
    "\n",
    "    col_val_nul = [col for col, prct in pct_missing.items() if prct > 0]\n",
    "    return pct_missing, col_val_nul\n"
   ]
  },
  {
   "cell_type": "code",
   "execution_count": 10,
   "id": "8670fc65",
   "metadata": {},
   "outputs": [
    {
     "name": "stdout",
     "output_type": "stream",
     "text": [
      "Credit_History-------------------- 8.14 % missing values\n",
      "Self_Employed-------------------- 5.21 % missing values\n",
      "LoanAmount-------------------- 3.58 % missing values\n",
      "Dependents-------------------- 2.44 % missing values\n",
      "Loan_Amount_Term-------------------- 2.28 % missing values\n",
      "Gender-------------------- 2.12 % missing values\n",
      "Married-------------------- 0.49 % missing values\n",
      "age-------------------- 0.00 % missing values\n",
      "Loan_Status-------------------- 0.00 % missing values\n",
      "Property_Area-------------------- 0.00 % missing values\n",
      "CoapplicantIncome-------------------- 0.00 % missing values\n",
      "ApplicantIncome-------------------- 0.00 % missing values\n",
      "Education-------------------- 0.00 % missing values\n",
      "Loan_ID-------------------- 0.00 % missing values\n"
     ]
    },
    {
     "data": {
      "image/png": "[encoded data removed]",
      "text/plain": [
       "<Figure size 576x504 with 1 Axes>"
      ]
     },
     "metadata": {
      "needs_background": "light"
     },
     "output_type": "display_data"
    },
    {
     "data": {
      "text/plain": [
       "(Credit_History       8.143322\n",
       " Self_Employed        5.211726\n",
       " LoanAmount           3.583062\n",
       " Dependents           2.442997\n",
       " Loan_Amount_Term     2.280130\n",
       " Gender               2.117264\n",
       " Married              0.488599\n",
       " age                  0.000000\n",
       " Loan_Status          0.000000\n",
       " Property_Area        0.000000\n",
       " CoapplicantIncome    0.000000\n",
       " ApplicantIncome      0.000000\n",
       " Education            0.000000\n",
       " Loan_ID              0.000000\n",
       " dtype: float64,\n",
       " ['Credit_History',\n",
       "  'Self_Employed',\n",
       "  'LoanAmount',\n",
       "  'Dependents',\n",
       "  'Loan_Amount_Term',\n",
       "  'Gender',\n",
       "  'Married'])"
      ]
     },
     "execution_count": 10,
     "metadata": {},
     "output_type": "execute_result"
    }
   ],
   "source": [
    "val_nul_plot(df)"
   ]
  },
  {
   "cell_type": "markdown",
   "id": "592de181",
   "metadata": {},
   "source": [
    "There are 7 columns with missing values, with the column Credit_History having the highest proportion (approximately 8% missing data)."
   ]
  },
  {
   "cell_type": "markdown",
   "id": "13790a83",
   "metadata": {},
   "source": [
    "### ID, if no duplicates, we can drop this column"
   ]
  },
  {
   "cell_type": "code",
   "execution_count": 11,
   "id": "1ef783ae",
   "metadata": {},
   "outputs": [],
   "source": [
    "def drop_id(df):\n",
    "    if not df[\"Loan_ID\"].is_unique:\n",
    "        print(\"Duplicates detected. Removing...\")\n",
    "        df = df.drop_duplicates(subset=\"Loan_ID\")\n",
    "    else:\n",
    "        print(\"No duplicates on Loan_ID and we droped this column\")\n",
    "    df = df.drop(\"Loan_ID\", axis=1)\n",
    "    return df"
   ]
  },
  {
   "cell_type": "code",
   "execution_count": 12,
   "id": "ce10b0d9",
   "metadata": {},
   "outputs": [
    {
     "name": "stdout",
     "output_type": "stream",
     "text": [
      "No duplicates on Loan_ID and we droped this column\n"
     ]
    }
   ],
   "source": [
    "df = drop_id(df)"
   ]
  },
  {
   "cell_type": "code",
   "execution_count": 13,
   "id": "3143a885",
   "metadata": {},
   "outputs": [
    {
     "data": {
      "text/plain": [
       "0"
      ]
     },
     "execution_count": 13,
     "metadata": {},
     "output_type": "execute_result"
    }
   ],
   "source": [
    "df.duplicated().sum()"
   ]
  },
  {
   "cell_type": "markdown",
   "id": "1f448ec3",
   "metadata": {},
   "source": [
    "There are no duplicate rows in the dataset."
   ]
  }
 ],
 "metadata": {
  "kernelspec": {
   "display_name": "base",
   "language": "python",
   "name": "python3"
  },
  "language_info": {
   "codemirror_mode": {
    "name": "ipython",
    "version": 3
   },
   "file_extension": ".py",
   "mimetype": "text/x-python",
   "name": "python",
   "nbconvert_exporter": "python",
   "pygments_lexer": "ipython3",
   "version": "3.7.6"
  }
 },
 "nbformat": 4,
 "nbformat_minor": 5
}
